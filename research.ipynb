{
 "cells": [
  {
   "cell_type": "code",
   "execution_count": null,
   "metadata": {},
   "outputs": [],
   "source": [
    "from langchain.document_loaders import PyPDFLoader, DirectoryLoader\n",
    "from langchain.text_splitter import RecursiveCharacterTextSplitter\n",
    "from langchain.embeddings  import HuggingFaceEmbeddings\n",
    "from langchain.chains import RetrievalQA\n",
    "\n"
   ]
  },
  {
   "cell_type": "code",
   "execution_count": 17,
   "metadata": {},
   "outputs": [
    {
     "name": "stdout",
     "output_type": "stream",
     "text": [
      "Loaded 26 documents.\n"
     ]
    }
   ],
   "source": [
    "def pdf_loader(data):\n",
    "    \"\"\"Load PDF files from a directory and split them into chunks.\"\"\"\n",
    "    loader = DirectoryLoader(data, glob=\"*.pdf\", loader_cls=PyPDFLoader)\n",
    "    documents = loader.load()\n",
    "    return documents\n",
    "\n",
    "document_text = pdf_loader(\"D:\\chatbot\\data\")\n",
    "print(f\"Loaded {len(document_text)} documents.\")"
   ]
  },
  {
   "cell_type": "code",
   "execution_count": 18,
   "metadata": {},
   "outputs": [
    {
     "name": "stdout",
     "output_type": "stream",
     "text": [
      "Split into 187 chunks.\n"
     ]
    }
   ],
   "source": [
    "# Split the documents into smaller chunks\n",
    "text_splitter = RecursiveCharacterTextSplitter(chunk_size=300 , chunk_overlap=20)\n",
    "documents = text_splitter.split_documents(document_text)\n",
    "\n",
    "print(f\"Split into {len(documents)} chunks.\")"
   ]
  },
  {
   "cell_type": "code",
   "execution_count": 19,
   "metadata": {},
   "outputs": [
    {
     "name": "stdout",
     "output_type": "stream",
     "text": [
      "Embeddings model loaded.\n"
     ]
    }
   ],
   "source": [
    "#Create embeddings model\n",
    "embeddings = HuggingFaceEmbeddings(model_name=\"sentence-transformers/all-MiniLM-L6-v2\")\n",
    "print(\"Embeddings model loaded.\")"
   ]
  },
  {
   "cell_type": "code",
   "execution_count": 22,
   "metadata": {},
   "outputs": [
    {
     "name": "stderr",
     "output_type": "stream",
     "text": [
      "Processing documents: 100%|██████████| 187/187 [00:00<00:00, 93573.71it/s]\n"
     ]
    }
   ],
   "source": [
    "from tqdm import tqdm\n",
    "# Show progress while preparing documents\n",
    "documents = list(tqdm(documents, desc=\"Processing documents\"))\n"
   ]
  },
  {
   "cell_type": "code",
   "execution_count": 23,
   "metadata": {},
   "outputs": [
    {
     "name": "stdout",
     "output_type": "stream",
     "text": [
      "FAISS Vector store created.\n"
     ]
    }
   ],
   "source": [
    "from langchain.vectorstores import FAISS\n",
    "\n",
    "vectorstore = FAISS.from_documents(documents, embeddings)\n",
    "print(\"FAISS Vector store created.\")\n"
   ]
  },
  {
   "cell_type": "code",
   "execution_count": 42,
   "metadata": {},
   "outputs": [
    {
     "name": "stdout",
     "output_type": "stream",
     "text": [
      "llama3-8b-8192\n",
      "RetrievalQA chain initialized.\n",
      "Response: I don't know. This conversation just started, and I haven't seen the PDF. However, based on the context provided, it appears to be about machine learning and data science. The questions and answers mention topics like F1 score, cross-validation, and machine learning algorithms, which are commonly discussed in the field of data science.\n"
     ]
    }
   ],
   "source": [
    "from dotenv import load_dotenv\n",
    "import os\n",
    "from groq import Groq\n",
    "\n",
    "load_dotenv()\n",
    "\n",
    "groq_api_key = os.getenv(\"GROQ_API_KEY\")\n",
    "\n",
    "groq_client = Groq(api_key=groq_api_key)\n",
    "\n",
    "\n",
    "\n",
    "# Initialize your Groq model with the API Key\n",
    "model = ChatGroq(model=\"llama3-8b-8192\", api_key=groq_api_key)\n",
    "print(model.model_name)\n",
    "\n",
    "\n",
    "\n",
    "# Create a retriever from the vectorstore\n",
    "retriever = vectorstore.as_retriever()\n",
    "\n",
    "# Initialize the RetrievalQA chain\n",
    "qa_chain = RetrievalQA.from_chain_type(llm=model, retriever=retriever)\n",
    "\n",
    "print(\"RetrievalQA chain initialized.\")\n",
    "\n",
    "\n",
    "# Perform a query using the qa_chain\n",
    "query = \"What is this PDF about?\"\n",
    "response = qa_chain.run(query)\n",
    "print(\"Response:\", response)"
   ]
  },
  {
   "cell_type": "code",
   "execution_count": null,
   "metadata": {},
   "outputs": [],
   "source": []
  }
 ],
 "metadata": {
  "kernelspec": {
   "display_name": "Python 3",
   "language": "python",
   "name": "python3"
  },
  "language_info": {
   "codemirror_mode": {
    "name": "ipython",
    "version": 3
   },
   "file_extension": ".py",
   "mimetype": "text/x-python",
   "name": "python",
   "nbconvert_exporter": "python",
   "pygments_lexer": "ipython3",
   "version": "3.9.0"
  }
 },
 "nbformat": 4,
 "nbformat_minor": 2
}
